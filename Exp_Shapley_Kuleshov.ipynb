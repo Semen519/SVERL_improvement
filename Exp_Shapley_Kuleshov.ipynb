{
  "nbformat": 4,
  "nbformat_minor": 0,
  "metadata": {
    "colab": {
      "provenance": []
    },
    "kernelspec": {
      "name": "python3",
      "display_name": "Python 3"
    },
    "language_info": {
      "name": "python"
    }
  },
  "cells": [
    {
      "cell_type": "markdown",
      "source": [
        "Меня зовут Кулешов Семён и в этом ноутбуке я подготовил минимальные исследования для моего Research Proposal для летней школы **Лето с AIRI 2025**.\n",
        "\n",
        "За основу взята статья из ICML-2023. Explaining Reinforcement Learning with Shapley Values. Daniel Beechey, Thomas M. S. Smith, Özgür Şimşek."
      ],
      "metadata": {
        "id": "LjaMz10t9pcN"
      }
    },
    {
      "cell_type": "markdown",
      "source": [
        "# Воспроизводство кода из статьи"
      ],
      "metadata": {
        "id": "Xk5V6ov8_Rir"
      }
    },
    {
      "cell_type": "markdown",
      "source": [
        "Эксперименты в этом ноутбуке сосредоточены на играх gridworld. Далее в коде конкретная игра из статьи gridworld-C."
      ],
      "metadata": {
        "id": "4l3oVKvD_mnI"
      }
    },
    {
      "cell_type": "markdown",
      "source": [
        "![image.png](data:image/png;base64,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)"
      ],
      "metadata": {
        "id": "m67Odo7iAAa6"
      }
    },
    {
      "cell_type": "markdown",
      "source": [
        "q_agent_1 - там написан стандартный RL-агент\n",
        "\n",
        "qwc - задана сетка игры\n",
        "\n",
        "utils - полезные функции\n",
        "\n",
        "characteristics - содержит функции для подсчета соответствующих характеристических функций $v(.)$\n",
        "\n",
        "Число прокатываний для оценки мат. ожидания сокращено до $10^5$ для сокращения времени."
      ],
      "metadata": {
        "id": "eA5m51R-AGzK"
      }
    },
    {
      "cell_type": "code",
      "execution_count": 1,
      "metadata": {
        "colab": {
          "base_uri": "https://localhost:8080/"
        },
        "id": "EjwqdSfV74vK",
        "outputId": "4d9745f1-cb76-4b66-e98e-3a0b31e28cd4"
      },
      "outputs": [
        {
          "output_type": "stream",
          "name": "stderr",
          "text": [
            "Training Agent: 100%|██████████| 10000000/10000000 [02:51<00:00, 58173.34it/s]\n",
            "Approximating State Distribution: 100%|██████████| 10000000/10000000 [07:13<00:00, 23045.29it/s]\n",
            "Calculating all pi_C: 100%|██████████| 4/4 [00:00<00:00, 700.42it/s]\n",
            "Calculating all v_C: 100%|██████████| 4/4 [00:00<00:00, 1525.06it/s]\n",
            "Calculating Characteristics: 100%|██████████| 1/1 [04:33<00:00, 273.78s/it]\n",
            "Calculating Characteristics: 100%|██████████| 1/1 [07:24<00:00, 444.88s/it]\n",
            "Calculating Characteristics: 100%|██████████| 1/1 [00:00<00:00, 14.18it/s]\n",
            "Calculating Characteristics: 100%|██████████| 1/1 [00:00<00:00, 17.13it/s]\n"
          ]
        }
      ],
      "source": [
        "import sys\n",
        "sys.path.insert(0, '../')\n",
        "\n",
        "from q_agent_1 import Agent\n",
        "from gwc import Grid\n",
        "from utils import train, get_state_dist, F_not_i, tqdm_label\n",
        "from characteristics import Characteristics\n",
        "import numpy as np\n",
        "\n",
        "env = Grid()\n",
        "agent = Agent(env.state_dim, env.num_actions, epsilon=1, gamma=1, alpha=0.2)\n",
        "states_to_explain = np.array([[0, 0], [1, 0], [1, 1], [1, 2], [0, 2]])\n",
        "\n",
        "# ------------------------------------------------- TRAIN\n",
        "train(agent, env, 1e7)\n",
        "\n",
        "# ------------------------------------------------- GET AGENT'S POLICY\n",
        "agent.get_policy()\n",
        "\n",
        "# ------------------------------------------------- APPROXIMATE STATE DIST\n",
        "state_dist = get_state_dist(agent, env, 1e7)\n",
        "\n",
        "# ------------------------------------------------- GET AGENT'S VALUE TABLE (for SHAP)\n",
        "agent.get_value_table()\n",
        "\n",
        "# ------------------------------------------------- ALL PI_C\n",
        "pi_Cs = {tuple(C): agent.get_pi_C(C, state_dist, states_to_explain) for C in tqdm_label(F_not_i(np.arange(env.state_dim)), 'Calculating all pi_C')}\n",
        "\n",
        "# ------------------------------------------------- ALL V_C\n",
        "v_Cs = {tuple(C): agent.get_v_C(C, state_dist, states_to_explain) for C in tqdm_label(F_not_i(np.arange(env.state_dim)), 'Calculating all v_C')}\n",
        "\n",
        "# ------------------------------------------------- ALL CHARACTERISTIC VALUES\n",
        "characteristics = Characteristics(env, states_to_explain)\n",
        "local_sverl_characteristics = characteristics.local_sverl_C_values(num_rolls=1e5, pi_Cs=pi_Cs, multi_process=True, num_p=5)\n",
        "global_sverl_characteristics = characteristics.global_sverl_C_values(num_rolls=1e5, pi_Cs=pi_Cs, multi_process=True, num_p=5)\n",
        "shapley_on_policy_characteristics = characteristics.shapley_on_policy(pi_Cs=pi_Cs, multi_process=True, num_p=5)\n",
        "shapley_on_value_characteristics = characteristics.shapley_on_value(v_Cs=v_Cs, multi_process=True, num_p=5)"
      ]
    },
    {
      "cell_type": "markdown",
      "source": [
        "Далее функция Шепли, которая считает из хар. функции $v(.)$ непосредственно вектор Шепли. Она также написана в исходной статье."
      ],
      "metadata": {
        "id": "pPOx_qesBdMS"
      }
    },
    {
      "cell_type": "code",
      "source": [
        "import math\n",
        "from collections import defaultdict\n",
        "from utils import F_not_i\n",
        "\n",
        "class Shapley:\n",
        "    \"\"\"\n",
        "    Calculates Shapley values given characteristic values.\n",
        "    \"\"\"\n",
        "\n",
        "    def __init__(self, states_to_explain):\n",
        "\n",
        "        # For Shapley calculations\n",
        "        self.F_card = len(states_to_explain[0])\n",
        "        self.F = np.arange(self.F_card)\n",
        "        self.states = states_to_explain\n",
        "\n",
        "    def run(self, characteristic_values):\n",
        "        \"\"\"\n",
        "        Calculates all the shapley values for every state and feature.\n",
        "        \"\"\"\n",
        "\n",
        "        shapley_values = defaultdict(lambda: [[] for _ in range(self.F_card)])\n",
        "\n",
        "        for state in self.states:\n",
        "\n",
        "            # All characteristic values for a given state.\n",
        "            C_values = {C: value_table[tuple(state)] for C, value_table in characteristic_values.items()}\n",
        "\n",
        "            for feature in self.F:\n",
        "\n",
        "                for C in F_not_i(self.F, feature): # All coalitions without feature\n",
        "\n",
        "                    # Cardinal of C\n",
        "                    C_card = len(C)\n",
        "\n",
        "                    # Add our feature to the current coalition\n",
        "                    C_with_i = np.append(C, feature).astype(int)\n",
        "                    C_with_i.sort()\n",
        "\n",
        "                    # Rolling sum, following formula\n",
        "                    shapley_values[tuple(state)][feature].append(math.factorial(C_card) * math.factorial(self.F_card - C_card - 1) * (C_values[tuple(C_with_i)] - C_values[tuple(C)]))\n",
        "\n",
        "                # Final weighting and return\n",
        "                shapley_values[tuple(state)][feature] = np.sum(shapley_values[tuple(state)][feature], axis=0) / math.factorial(self.F_card)\n",
        "\n",
        "        return dict(shapley_values)"
      ],
      "metadata": {
        "id": "3c4XhhALLkMI"
      },
      "execution_count": 2,
      "outputs": []
    },
    {
      "cell_type": "markdown",
      "source": [
        "Сохраняем векторы Шепли в файлы, и выводим их."
      ],
      "metadata": {
        "id": "LrFQgsRvBrrN"
      }
    },
    {
      "cell_type": "code",
      "source": [
        "import pickle\n",
        "import os"
      ],
      "metadata": {
        "id": "wKY2OC_UKgbn"
      },
      "execution_count": 4,
      "outputs": []
    },
    {
      "cell_type": "code",
      "source": [
        "# ------------------------------------------------- SHAPLEY VALUES\n",
        "shapley = Shapley(states_to_explain)\n",
        "for characteristics, filename in zip([local_sverl_characteristics,\n",
        "                                      global_sverl_characteristics,\n",
        "                                      shapley_on_policy_characteristics,\n",
        "                                      shapley_on_value_characteristics], ['original/local', 'original/global', 'original/policy', 'original/value_function']):\n",
        "\n",
        "    shapley_values = shapley.run(characteristics)\n",
        "    print(shapley_values)\n",
        "\n",
        "    folder = os.path.dirname(filename)\n",
        "    if folder and not os.path.exists(folder):\n",
        "        os.makedirs(folder)\n",
        "\n",
        "    with open('{}.pkl'.format(filename), 'wb') as file: pickle.dump(shapley_values, file)"
      ],
      "metadata": {
        "colab": {
          "base_uri": "https://localhost:8080/"
        },
        "id": "dstA2_tcLvri",
        "outputId": "ff665cf0-d8d4-4f0a-e8d5-ab62b37af999"
      },
      "execution_count": 5,
      "outputs": [
        {
          "output_type": "stream",
          "name": "stdout",
          "text": [
            "{(np.int64(0), np.int64(0)): [np.float64(4.00118), np.float64(4.00118)], (np.int64(1), np.int64(0)): [np.float64(0.1661299999999999), np.float64(0.6616499999999998)], (np.int64(1), np.int64(1)): [np.float64(0.0028850000000000264), np.float64(0.4979849999999999)], (np.int64(1), np.int64(2)): [np.float64(1.25827), np.float64(2.24978)], (np.int64(0), np.int64(2)): [np.float64(0.32814999999999994), np.float64(0.3342999999999998)]}\n",
            "{(np.int64(0), np.int64(0)): [np.float64(6.36082), np.float64(10.374010000000002)], (np.int64(1), np.int64(0)): [np.float64(2.3898900000000003), np.float64(6.35016)], (np.int64(1), np.int64(1)): [np.float64(1.377455), np.float64(3.888595)], (np.int64(1), np.int64(2)): [np.float64(1.363275), np.float64(3.408775)], (np.int64(0), np.int64(2)): [np.float64(0.12083500000000003), np.float64(1.1267749999999999)]}\n",
            "{(np.int64(0), np.int64(0)): [array([-0.33329385,  0.44439175,  0.        , -0.1110979 ]), array([-0.33329375,  0.44439165,  0.        , -0.1110979 ])], (np.int64(1), np.int64(0)): [array([ 0.16682487, -0.22239359,  0.        ,  0.05556872]), array([ 0.16658753,  0.11117699,  0.        , -0.27776452])], (np.int64(1), np.int64(1)): [array([ 3.95833393e-05, -5.56083000e-02,  0.00000000e+00,  5.55687167e-02]), array([ 0.33337282, -0.0556083 ,  0.        , -0.27776452])], (np.int64(1), np.int64(2)): [array([-0.24996042, -0.0556083 ,  0.        ,  0.30556872]), array([-0.41662718, -0.0556083 ,  0.        ,  0.47223548])], (np.int64(0), np.int64(2)): [array([ 0.24992086,  0.11117704,  0.        , -0.3610979 ]), array([ 0.08349154, -0.22239364,  0.        ,  0.1389021 ])]}\n",
            "{(np.int64(0), np.int64(0)): [np.float64(-0.1113352155768319), np.float64(-2.1106230844231715)], (np.int64(1), np.int64(0)): [np.float64(0.05580606348508699), np.float64(-1.2777643634850886)], (np.int64(1), np.int64(1)): [np.float64(-0.11097922500889634), np.float64(-0.11097907499110349)], (np.int64(1), np.int64(2)): [np.float64(-0.36097922500889723), np.float64(1.1390209250088992)], (np.int64(0), np.int64(2)): [np.float64(0.47187949592918566), np.float64(1.306162204070818)]}\n"
          ]
        }
      ]
    },
    {
      "cell_type": "markdown",
      "source": [
        "# Написание собственного подхода подсчета векторов Шепли"
      ],
      "metadata": {
        "id": "qHmtc6xuByPv"
      }
    },
    {
      "cell_type": "markdown",
      "source": [
        "Использование глобального вектора Шепли мотивированно в статье. Процитируем ее:\n",
        "\n",
        "\"Например, при автономном вождении пользователь может\n",
        "захотеть понять, **какие части наблюдений** автономного транспортного средства\n",
        "**наиболее важны** для производительности вождения,\n",
        "чтобы сосредоточить ресурсы на улучшении этих частей дорожной\n",
        "системы. Некоторые характеристики состояния могут существенно\n",
        "вносить вклад в производительность в определенных состояниях, например, торможение при\n",
        "наблюдении за человеком или остановка при приближении машины скорой помощи, в то время как дорожная разметка может быть глобально важна,\n",
        "внося вклад в производительность агента во многих состояниях.\""
      ],
      "metadata": {
        "id": "D6ysiWy0B84W"
      }
    },
    {
      "cell_type": "markdown",
      "source": [
        "\n",
        "**Вектор Шепли учитывает все подмножества игроков** (в нашем случае — наблюдений) и усредняет вклад каждого наблюдения по всем возможным коалициям **с равными весами**. Однако это не вполне отражает реальную полезность отдельного наблюдения. Нас больше интересует вклад наблюдения в условиях, когда большинство других наблюдений уже доступны. Иначе вопрос сводится к вероятности, с которой конкретное наблюдение может быть зашумлено или недоступно, что требует учета различных весов подмножеств — например, если какие-то наблюдения ломаются чаще других.\n",
        "\n",
        "Кроме того, **возникает эффект дублирования**: если важная информация (например, пешеход на дороге) отражена в нескольких признаках, вектор Шепли присвоит высокую важность всем этим признакам. Но с практической точки зрения достаточно иметь 1–2 надежных признака, так как остальные не дают новой информации.\n",
        "\n",
        "Я хочу продемонстрировать эту проблему на новой сетке gridworld-D, сравнив стандартный вектор Шепли из статьи и мой модифицированный подход. **В моем подходе**, помимо характерической функции, **вектор Шепли учитывает распределение вероятностей для подмножеств игроков**. Для простоты можно задать модель, где **каждый игрок $i$ включается независимо с вероятностью $p_i$**, и вклад каждого игрока вычисляется как математическое ожидание его вклада с учетом этого распределения.\n",
        "\n",
        "Формула: $\\phi_i = \\mathbb{E}_{X_i} \\left[ v(X_i \\cup \\{i\\}) - v(X_i) \\right]$\n",
        "\n",
        "где $X_i$ - случайное подмножество игроков без $i$-ого.\n",
        "\n",
        "Реализуем ее в коде.\n",
        "\n",
        "Будем считать, что $P(X_k) = \\prod_{i \\in X_k} p_i \\times \\prod_{j \\in F_k \\setminus X_k} (1 - p_j)$\n",
        "\n",
        "где $F_k$ - все игроки (наблюдения) кроме $k$-ого."
      ],
      "metadata": {
        "id": "4eplLZHbF8YJ"
      }
    },
    {
      "cell_type": "markdown",
      "source": [
        "P.S. Строго говоря вектор в моем подходе не является вектором Шепли некоторой кооперативной игры, поскольку сумма вкладов каждого игрока не будет равна суммарному выигрышу. Это необходимо допустить для избегания эффекта дублирования."
      ],
      "metadata": {
        "id": "mcLCNDx_Gahe"
      }
    },
    {
      "cell_type": "code",
      "source": [
        "import numpy as np\n",
        "from collections import defaultdict\n",
        "from utils import F_not_i\n",
        "\n",
        "class ExpectedShapley:\n",
        "    \"\"\"\n",
        "    Computes Shapley values as an expectation over random feature failures,\n",
        "    using independent failure probabilities (1 - p_vector[i]) for each feature.\n",
        "    \"\"\"\n",
        "\n",
        "    def __init__(self, states_to_explain, p_vector):\n",
        "        self.F_card = len(states_to_explain[0])  # Number of features\n",
        "        self.F = np.arange(self.F_card)          # Feature indices\n",
        "        self.states = states_to_explain          # States to explain\n",
        "        self.p_vector = p_vector                 # Probabilities of keeping each feature (not failing)\n",
        "\n",
        "    def run(self, characteristic_values):\n",
        "        \"\"\"\n",
        "        Calculates Shapley values for each state and feature under random failures.\n",
        "        \"\"\"\n",
        "\n",
        "        shapley_values = defaultdict(lambda: np.zeros(self.F_card))\n",
        "\n",
        "        for state in self.states:\n",
        "            # Extract characteristic values for this state\n",
        "            C_values = {C: value_table[tuple(state)] for C, value_table in characteristic_values.items()}\n",
        "\n",
        "            for i in self.F:\n",
        "                phi_i = 0  # Initialize expected contribution for feature i\n",
        "\n",
        "                # Loop over all coalitions not containing feature i\n",
        "                for C in F_not_i(self.F, i):\n",
        "                    C_set = set(C)\n",
        "                    C_with_i = tuple(sorted(C_set | {i}))\n",
        "\n",
        "                    # Compute probability of this coalition C occurring\n",
        "                    p_C = 1.0\n",
        "                    for j in self.F:\n",
        "                        if j in C_set:\n",
        "                            p_C *= self.p_vector[j]\n",
        "                        elif j != i:  # feature i is not in C by definition\n",
        "                            p_C *= (1 - self.p_vector[j])\n",
        "\n",
        "                    # Compute marginal contribution of feature i in context of C\n",
        "                    marginal_contrib = C_values[C_with_i] - C_values[tuple(C)]\n",
        "\n",
        "                    # Weighted contribution\n",
        "                    phi_i += p_C * marginal_contrib\n",
        "\n",
        "                shapley_values[tuple(state)][i] = phi_i\n",
        "\n",
        "        return dict(shapley_values)\n"
      ],
      "metadata": {
        "id": "0A_qzkEz68IY"
      },
      "execution_count": 6,
      "outputs": []
    },
    {
      "cell_type": "markdown",
      "source": [
        "Посчитаем значения вектора Шепли в модифицированном подходе для вектора вероятностей $(0.9, 0.9)$, что соответствует тому, что каждый из признаков часто находится в подмножестве оставшихся признаков."
      ],
      "metadata": {
        "id": "8aBxDDijHxG7"
      }
    },
    {
      "cell_type": "code",
      "source": [
        "p_vector = [0.9, 0.9]\n",
        "expShapley = ExpectedShapley(states_to_explain, p_vector)\n",
        "for characteristics, filename in zip([local_sverl_characteristics,\n",
        "                                      global_sverl_characteristics], ['modified/local-90', 'modified/global-90']):\n",
        "\n",
        "    expShapley_values = expShapley.run(characteristics)\n",
        "    print(expShapley_values)\n",
        "\n",
        "    folder = os.path.dirname(filename)\n",
        "    if folder and not os.path.exists(folder):\n",
        "        os.makedirs(folder)\n",
        "\n",
        "    with open('{}.pkl'.format(filename), 'wb') as file: pickle.dump(expShapley_values, file)"
      ],
      "metadata": {
        "colab": {
          "base_uri": "https://localhost:8080/"
        },
        "id": "mTD7j0t198kn",
        "outputId": "36f93d22-072f-475b-c392-22f28e9463c7"
      },
      "execution_count": 10,
      "outputs": [
        {
          "output_type": "stream",
          "name": "stdout",
          "text": [
            "{(np.int64(0), np.int64(0)): array([2.399956, 2.399956]), (np.int64(1), np.int64(0)): array([0.43433, 0.92985]), (np.int64(1), np.int64(1)): array([0.000577, 0.495677]), (np.int64(1), np.int64(2)): array([1.055822, 2.047332]), (np.int64(0), np.int64(2)): array([0.867638, 0.873788])}\n",
            "{(np.int64(0), np.int64(0)): array([4.873156, 8.886346]), (np.int64(1), np.int64(0)): array([2.478946, 6.439216]), (np.int64(1), np.int64(1)): array([1.869723, 4.380863]), (np.int64(1), np.int64(2)): array([1.865135, 3.910635]), (np.int64(0), np.int64(2)): array([0.818863, 1.824803])}\n"
          ]
        }
      ]
    },
    {
      "cell_type": "code",
      "source": [
        "filename = 'modified/global-90.pkl'\n",
        "\n",
        "with open(filename, 'rb') as file:\n",
        "    local_data = pickle.load(file)\n",
        "\n",
        "vectors = list(local_data.values())\n",
        "\n",
        "vectors = np.array(vectors)\n",
        "print(vectors)\n",
        "\n",
        "mean_first_coord = np.mean(vectors[:, 0])\n",
        "mean_second_coord = np.mean(vectors[:, 1])\n",
        "\n",
        "print(f\"Среднее по x: {mean_first_coord}\")\n",
        "print(f\"Среднее по y: {mean_second_coord}\")"
      ],
      "metadata": {
        "colab": {
          "base_uri": "https://localhost:8080/"
        },
        "id": "CCnJkqfAD1EO",
        "outputId": "d544ed47-c51d-4c74-a48f-9f47edbe5faf"
      },
      "execution_count": 11,
      "outputs": [
        {
          "output_type": "stream",
          "name": "stdout",
          "text": [
            "[[4.873156 8.886346]\n",
            " [2.478946 6.439216]\n",
            " [1.869723 4.380863]\n",
            " [1.865135 3.910635]\n",
            " [0.818863 1.824803]]\n",
            "Среднее по x: 2.3811646000000004\n",
            "Среднее по y: 5.0883726000000005\n"
          ]
        }
      ]
    },
    {
      "cell_type": "code",
      "source": [
        "filename = 'original/global.pkl'\n",
        "\n",
        "with open(filename, 'rb') as file:\n",
        "    local_data = pickle.load(file)\n",
        "\n",
        "vectors = list(local_data.values())\n",
        "\n",
        "vectors = np.array(vectors)\n",
        "print(vectors)\n",
        "\n",
        "mean_first_coord = np.mean(vectors[:, 0])\n",
        "mean_second_coord = np.mean(vectors[:, 1])\n",
        "\n",
        "print(f\"Среднее по x: {mean_first_coord}\")\n",
        "print(f\"Среднее по y: {mean_second_coord}\")"
      ],
      "metadata": {
        "colab": {
          "base_uri": "https://localhost:8080/"
        },
        "id": "mgXp21SMLElH",
        "outputId": "38b8d819-a627-4d3e-9f39-b8236abd835e"
      },
      "execution_count": 12,
      "outputs": [
        {
          "output_type": "stream",
          "name": "stdout",
          "text": [
            "[[ 6.36082  10.37401 ]\n",
            " [ 2.38989   6.35016 ]\n",
            " [ 1.377455  3.888595]\n",
            " [ 1.363275  3.408775]\n",
            " [ 0.120835  1.126775]]\n",
            "Среднее по x: 2.322455\n",
            "Среднее по y: 5.029662999999999\n"
          ]
        }
      ]
    },
    {
      "cell_type": "markdown",
      "source": [
        "Как мы видим оригинальный и модифицированные подходы с точки зрения глобального вектора Шепли несильно различаются в gridworld-c. Эффекта дублирования в этой задаче нет, поэтому это говорит о разумности моего подхода."
      ],
      "metadata": {
        "id": "vfz9FCcXLo9o"
      }
    },
    {
      "cell_type": "markdown",
      "source": [
        "# Превосходство моего подхода в gridworld-d"
      ],
      "metadata": {
        "id": "KsWbzgbDL5hS"
      }
    },
    {
      "cell_type": "markdown",
      "source": [
        "Для демонстрации эффекта поменяем сетку. Возьмем за основу gridworld-c, но добавим третью координату $z$. Она будет всегда равна $y$. При этом для сохранения логики игры варианты ходов меняться не будут, их останется четыре, как и было. Значение $z$ будет меняться вслед за $y$, по сути это вторая версия $y$ (дублирующая).\n",
        "\n",
        "Новую игру назовем gridworld-d."
      ],
      "metadata": {
        "id": "mGBL5TKmFcri"
      }
    },
    {
      "cell_type": "markdown",
      "source": [
        "Напишем новую сетку."
      ],
      "metadata": {
        "id": "F-oOhf__M3Hw"
      }
    },
    {
      "cell_type": "code",
      "source": [
        "import numpy as np\n",
        "\n",
        "class GridExp:\n",
        "    \"\"\"\n",
        "    2 x 4 grid world where top left square is a goal.\n",
        "    Grid has a border around the sides.\n",
        "    (0, 1) and (1, 3) are impassible blocks.\n",
        "    Reward is -1 each step and +10 for reaching the goal.\n",
        "    Initial position is randomly sampled from bottom two squares.\n",
        "    Now, state is (x, y, y) where third coordinate duplicates y.\n",
        "    \"\"\"\n",
        "\n",
        "    def __init__(self):\n",
        "        # 4 height and 2 width\n",
        "        H = 4\n",
        "        W = 2\n",
        "        self.grid = np.zeros((H, W))\n",
        "\n",
        "        self.num_actions = 4\n",
        "        self.state_dim = 3  # Now 3 dimensions: (x, y, duplicate_y)\n",
        "\n",
        "        self.start = np.array([[0, 0, 0], [1, 0, 0]])  # Added duplicate y=0\n",
        "\n",
        "        self.trans = np.zeros((W, H-1, 4, 4), dtype=int)  # x, y, action -> (new_x, new_y, reward, done)\n",
        "\n",
        "        self.action_dict = {0: [0, 1],  # Right\n",
        "                            1: [1, 0],  # Down\n",
        "                            2: [0, -1], # Left\n",
        "                            3: [-1, 0]} # Up\n",
        "\n",
        "        for y, row in enumerate(self.grid[:-1]):\n",
        "            for x, _ in enumerate(row):\n",
        "\n",
        "                state = np.array([x, y])\n",
        "\n",
        "                for k in range(4):\n",
        "                    reward_done = np.array([-1, 0])\n",
        "\n",
        "                    new_state = state + self.action_dict[k]\n",
        "\n",
        "                    # Check if hitting wall or invalid move\n",
        "                    if not ((new_state[1] in np.arange(H)) and (new_state[0] in np.arange(W))) or (new_state == [[0, 1], [1, 3]]).all(axis=1).any():\n",
        "                        new_state = state\n",
        "                    elif new_state[1] == H-1:\n",
        "                        reward_done += [10, 1]\n",
        "\n",
        "                    # Update transition table\n",
        "                    self.trans[x, y, k] = np.append(new_state, reward_done)\n",
        "\n",
        "    def reset(self, start_state=None):\n",
        "        \"\"\"\n",
        "        Randomly places the agent in one of the bottom two squares,\n",
        "        or sets environment to the given state.\n",
        "        \"\"\"\n",
        "\n",
        "        if start_state is None:\n",
        "            base_pos = self.start[np.random.choice(2)]\n",
        "        else:\n",
        "            base_pos = np.array(start_state)\n",
        "\n",
        "        # Always ensure third coordinate duplicates y\n",
        "        self.pos = np.array([base_pos[0], base_pos[1], base_pos[1]])\n",
        "\n",
        "        return self.pos.copy(), None\n",
        "\n",
        "    def step(self, action):\n",
        "        \"\"\"\n",
        "        Takes a step in the environment with state (x, y, duplicate_y).\n",
        "        \"\"\"\n",
        "\n",
        "        new_state_reward_done = self.trans[self.pos[0], self.pos[1], action]\n",
        "        new_x, new_y = new_state_reward_done[0], new_state_reward_done[1]\n",
        "\n",
        "        # Update position: (new_x, new_y, new_y)\n",
        "        self.pos = np.array([new_x, new_y, new_y])\n",
        "\n",
        "        return self.pos.copy(), new_state_reward_done[2], new_state_reward_done[3], False, False\n"
      ],
      "metadata": {
        "id": "0Zo1wfJEF-na"
      },
      "execution_count": 14,
      "outputs": []
    },
    {
      "cell_type": "markdown",
      "source": [
        "Обучим агента и посчитаем все необходимые характеристические функции."
      ],
      "metadata": {
        "id": "Yby_ghfZM8Lm"
      }
    },
    {
      "cell_type": "code",
      "source": [
        "env = GridExp()\n",
        "agent = Agent(env.state_dim, env.num_actions, epsilon=1, gamma=1, alpha=0.2)\n",
        "states_to_explain = np.array([[0, 0, 0], [1, 0, 0], [1, 1, 1], [1, 2, 2], [0, 2, 2]])\n",
        "\n",
        "# ------------------------------------------------- TRAIN\n",
        "train(agent, env, 1e7)\n",
        "\n",
        "# ------------------------------------------------- GET AGENT'S POLICY\n",
        "agent.get_policy()\n",
        "\n",
        "# ------------------------------------------------- APPROXIMATE STATE DIST\n",
        "state_dist = get_state_dist(agent, env, 1e7)\n",
        "\n",
        "# ------------------------------------------------- GET AGENT'S VALUE TABLE (for SHAP)\n",
        "agent.get_value_table()\n",
        "\n",
        "# ------------------------------------------------- ALL PI_C\n",
        "pi_Cs = {tuple(C): agent.get_pi_C(C, state_dist, states_to_explain) for C in tqdm_label(F_not_i(np.arange(env.state_dim)), 'Calculating all pi_C')}\n",
        "\n",
        "# ------------------------------------------------- ALL V_C\n",
        "v_Cs = {tuple(C): agent.get_v_C(C, state_dist, states_to_explain) for C in tqdm_label(F_not_i(np.arange(env.state_dim)), 'Calculating all v_C')}\n",
        "\n",
        "# ------------------------------------------------- ALL CHARACTERISTIC VALUES\n",
        "characteristics = Characteristics(env, states_to_explain)\n",
        "local_sverl_characteristics = characteristics.local_sverl_C_values(num_rolls=1e5, pi_Cs=pi_Cs, multi_process=True, num_p=5)\n",
        "global_sverl_characteristics = characteristics.global_sverl_C_values(num_rolls=1e5, pi_Cs=pi_Cs, multi_process=True, num_p=5)"
      ],
      "metadata": {
        "colab": {
          "base_uri": "https://localhost:8080/"
        },
        "id": "GqCC1oRAHGY1",
        "outputId": "04943e9a-d2ed-4c06-f269-1205174a565c"
      },
      "execution_count": 15,
      "outputs": [
        {
          "output_type": "stream",
          "name": "stderr",
          "text": [
            "Training Agent: 100%|██████████| 10000000/10000000 [03:19<00:00, 50176.49it/s]\n",
            "Approximating State Distribution: 100%|██████████| 10000000/10000000 [06:57<00:00, 23964.91it/s]\n",
            "Calculating all pi_C: 100%|██████████| 8/8 [00:00<00:00, 1741.64it/s]\n",
            "Calculating all v_C: 100%|██████████| 8/8 [00:00<00:00, 1824.50it/s]\n",
            "Calculating Characteristics: 100%|██████████| 2/2 [08:56<00:00, 268.05s/it]\n",
            "Calculating Characteristics: 100%|██████████| 2/2 [12:19<00:00, 369.95s/it]\n"
          ]
        }
      ]
    },
    {
      "cell_type": "markdown",
      "source": [
        "Посчитаем вектора Шепли в старом подходе."
      ],
      "metadata": {
        "id": "3qr_xYSbNCws"
      }
    },
    {
      "cell_type": "code",
      "source": [
        "# ------------------------------------------------- SHAPLEY VALUES\n",
        "shapley = Shapley(states_to_explain)\n",
        "for characteristics, filename in zip([local_sverl_characteristics,\n",
        "                                      global_sverl_characteristics], ['gridworld-d/local-origin', 'gridworld-d/global-origin']):\n",
        "\n",
        "    shapley_values = shapley.run(characteristics)\n",
        "    print(shapley_values)\n",
        "    folder = os.path.dirname(filename)\n",
        "    if folder and not os.path.exists(folder):\n",
        "        os.makedirs(folder)\n",
        "\n",
        "    with open('{}.pkl'.format(filename), 'wb') as file: pickle.dump(shapley_values, file)"
      ],
      "metadata": {
        "colab": {
          "base_uri": "https://localhost:8080/"
        },
        "id": "QBHyyLkmHN-v",
        "outputId": "20b3b2af-e574-4abd-e2db-70998ddbfefe"
      },
      "execution_count": 17,
      "outputs": [
        {
          "output_type": "stream",
          "name": "stdout",
          "text": [
            "{(np.int64(0), np.int64(0), np.int64(0)): [np.float64(3.3335033333333333), np.float64(2.3324683333333334), np.float64(2.3324683333333334)], (np.int64(1), np.int64(0), np.int64(0)): [np.float64(0.2766433333333331), np.float64(0.2756733333333334), np.float64(0.2756733333333334)], (np.int64(1), np.int64(1), np.int64(1)): [np.float64(-0.0012266666666667092), np.float64(0.2477733333333334), np.float64(0.2477733333333334)], (np.int64(1), np.int64(2), np.int64(2)): [np.float64(1.16143), np.float64(1.16151), np.float64(1.16151)], (np.int64(0), np.int64(2), np.int64(2)): [np.float64(0.5554566666666668), np.float64(0.05677666666666662), np.float64(0.05677666666666662)]}\n",
            "{(np.int64(0), np.int64(0), np.int64(0)): [np.float64(5.768156666666667), np.float64(5.520416666666667), np.float64(5.520416666666667)], (np.int64(1), np.int64(0), np.int64(0)): [np.float64(2.42756), np.float64(3.155765), np.float64(3.155765)], (np.int64(1), np.int64(1), np.int64(1)): [np.float64(1.5872466666666663), np.float64(1.8333516666666665), np.float64(1.8333516666666665)], (np.int64(1), np.int64(2), np.int64(2)): [np.float64(1.5802933333333335), np.float64(1.5892383333333333), np.float64(1.5892383333333333)], (np.int64(0), np.int64(2), np.int64(2)): [np.float64(0.40440333333333367), np.float64(0.41418833333333316), np.float64(0.41418833333333316)]}\n"
          ]
        }
      ]
    },
    {
      "cell_type": "markdown",
      "source": [
        "Посчитаем вектора Шепли в модифицированном подходе для вектора вероятностей (0.9, 0.9, 0.9)."
      ],
      "metadata": {
        "id": "yDR_Y7gRNHnY"
      }
    },
    {
      "cell_type": "code",
      "source": [
        "p_vector = [0.9, 0.9, 0.9]\n",
        "expShapley = ExpectedShapley(states_to_explain, p_vector)\n",
        "for characteristics, filename in zip([local_sverl_characteristics,\n",
        "                                      global_sverl_characteristics], ['gridworld-d/local-modified-90', 'gridworld-d/global-modified-90']):\n",
        "\n",
        "    expShapley_values = expShapley.run(characteristics)\n",
        "    print(expShapley_values)\n",
        "    folder = os.path.dirname(filename)\n",
        "    if folder and not os.path.exists(folder):\n",
        "        os.makedirs(folder)\n",
        "\n",
        "    with open('{}.pkl'.format(filename), 'wb') as file: pickle.dump(expShapley_values, file)"
      ],
      "metadata": {
        "colab": {
          "base_uri": "https://localhost:8080/"
        },
        "id": "WoLEE5OAHeNQ",
        "outputId": "afde7f9c-eb02-4a32-d918-790300bad178"
      },
      "execution_count": 18,
      "outputs": [
        {
          "output_type": "stream",
          "name": "stdout",
          "text": [
            "{(np.int64(0), np.int64(0), np.int64(0)): array([2.042013, 0.24015 , 0.24015 ]), (np.int64(1), np.int64(0), np.int64(0)): array([0.4975867, 0.0938567, 0.0938567]), (np.int64(1), np.int64(1), np.int64(1)): array([-3.68000e-05,  4.97632e-02,  4.97632e-02]), (np.int64(1), np.int64(2), np.int64(2)): array([1.00623 , 0.205102, 0.205102]), (np.int64(0), np.int64(2), np.int64(2)): array([0.9813869, 0.0860029, 0.0860029])}\n",
            "{(np.int64(0), np.int64(0), np.int64(0)): array([4.5316621, 0.8873781, 0.8873781]), (np.int64(1), np.int64(0), np.int64(0)): array([2.5104077, 0.6456727, 0.6456727]), (np.int64(1), np.int64(1), np.int64(1)): array([1.9887426, 0.4370356, 0.4370356]), (np.int64(1), np.int64(2), np.int64(2)): array([1.9869529, 0.3891179, 0.3891179]), (np.int64(0), np.int64(2), np.int64(2)): array([0.9802503, 0.1837593, 0.1837593])}\n"
          ]
        }
      ]
    },
    {
      "cell_type": "markdown",
      "source": [
        "Посчитаем вектора Шепли в модифицированном подходе для вектора вероятностей (1, 1, 1)."
      ],
      "metadata": {
        "id": "3T14UlRrNPnW"
      }
    },
    {
      "cell_type": "code",
      "source": [
        "p_vector = [1, 1, 1]\n",
        "expShapley = ExpectedShapley(states_to_explain, p_vector)\n",
        "for characteristics, filename in zip([local_sverl_characteristics,\n",
        "                                      global_sverl_characteristics], ['gridworld-d/local-modified-100', 'gridworld-d/global-modified-100']):\n",
        "\n",
        "    expShapley_values = expShapley.run(characteristics)\n",
        "    print(expShapley_values)\n",
        "    folder = os.path.dirname(filename)\n",
        "    if folder and not os.path.exists(folder):\n",
        "        os.makedirs(folder)\n",
        "    with open('{}.pkl'.format(filename), 'wb') as file: pickle.dump(expShapley_values, file)"
      ],
      "metadata": {
        "colab": {
          "base_uri": "https://localhost:8080/"
        },
        "id": "cb9AYb9WRynT",
        "outputId": "9721bdf6-3235-48ed-ae88-513d23ceb0f0"
      },
      "execution_count": 19,
      "outputs": [
        {
          "output_type": "stream",
          "name": "stdout",
          "text": [
            "{(np.int64(0), np.int64(0), np.int64(0)): array([2.00207, 0.     , 0.     ]), (np.int64(1), np.int64(0), np.int64(0)): array([0.50442, 0.     , 0.     ]), (np.int64(1), np.int64(1), np.int64(1)): array([0., 0., 0.]), (np.int64(1), np.int64(2), np.int64(2)): array([1.00143, 0.     , 0.     ]), (np.int64(0), np.int64(2), np.int64(2)): array([0.99456, 0.     , 0.     ])}\n",
            "{(np.int64(0), np.int64(0), np.int64(0)): array([4.49342, 0.     , 0.     ]), (np.int64(1), np.int64(0), np.int64(0)): array([2.51297, 0.     , 0.     ]), (np.int64(1), np.int64(1), np.int64(1)): array([2.00116, 0.     , 0.     ]), (np.int64(1), np.int64(2), np.int64(2)): array([1.99953, 0.     , 0.     ]), (np.int64(0), np.int64(2), np.int64(2)): array([0.99806, 0.     , 0.     ])}\n"
          ]
        }
      ]
    },
    {
      "cell_type": "markdown",
      "source": [
        "Посчитаем вектора Шепли в модифицированном подходе для вектора вероятностей (0.5, 0.5, 0.5)."
      ],
      "metadata": {
        "id": "TXixaa3HNT6A"
      }
    },
    {
      "cell_type": "code",
      "source": [
        "p_vector = [0.5, 0.5, 0.5]\n",
        "expShapley = ExpectedShapley(states_to_explain, p_vector)\n",
        "for characteristics, filename in zip([local_sverl_characteristics,\n",
        "                                      global_sverl_characteristics], ['gridworld-d/local-modified-50', 'gridworld-d/global-modified-50']):\n",
        "\n",
        "    expShapley_values = expShapley.run(characteristics)\n",
        "    print(expShapley_values)\n",
        "    folder = os.path.dirname(filename)\n",
        "    if folder and not os.path.exists(folder):\n",
        "        os.makedirs(folder)\n",
        "\n",
        "    with open('{}.pkl'.format(filename), 'wb') as file: pickle.dump(expShapley_values, file)"
      ],
      "metadata": {
        "colab": {
          "base_uri": "https://localhost:8080/"
        },
        "id": "t1gAU1URR618",
        "outputId": "a7c0081d-31bc-43d7-ed71-ef0f8478faf0"
      },
      "execution_count": 20,
      "outputs": [
        {
          "output_type": "stream",
          "name": "stdout",
          "text": [
            "{(np.int64(0), np.int64(0), np.int64(0)): array([3.000645, 1.99961 , 1.99961 ]), (np.int64(1), np.int64(0), np.int64(0)): array([0.3335875, 0.3326175, 0.3326175]), (np.int64(1), np.int64(1), np.int64(1)): array([-0.00092,  0.24808,  0.24808]), (np.int64(1), np.int64(2), np.int64(2)): array([1.12143, 1.12151, 1.12151]), (np.int64(0), np.int64(2), np.int64(2)): array([0.6652325, 0.1665525, 0.1665525])}\n",
            "{(np.int64(0), np.int64(0), np.int64(0)): array([5.4494725, 5.2017325, 5.2017325]), (np.int64(1), np.int64(0), np.int64(0)): array([2.4489125, 3.1771175, 3.1771175]), (np.int64(1), np.int64(1), np.int64(1)): array([1.690725, 1.93683 , 1.93683 ]), (np.int64(1), np.int64(2), np.int64(2)): array([1.6851025, 1.6940475, 1.6940475]), (np.int64(0), np.int64(2), np.int64(2)): array([0.5528175, 0.5626025, 0.5626025])}\n"
          ]
        }
      ]
    },
    {
      "cell_type": "markdown",
      "source": [
        "Посчитаем вектора Шепли в модифицированном подходе для вектора вероятностей (0, 0, 0)."
      ],
      "metadata": {
        "id": "YfKGMK1kNWFF"
      }
    },
    {
      "cell_type": "code",
      "source": [
        "p_vector = [0, 0, 0]\n",
        "expShapley = ExpectedShapley(states_to_explain, p_vector)\n",
        "for characteristics, filename in zip([local_sverl_characteristics,\n",
        "                                      global_sverl_characteristics], ['gridworld-d/local-modified-0', 'gridworld-d/global-modified-0']):\n",
        "\n",
        "    expShapley_values = expShapley.run(characteristics)\n",
        "    print(expShapley_values)\n",
        "    folder = os.path.dirname(filename)\n",
        "    if folder and not os.path.exists(folder):\n",
        "        os.makedirs(folder)\n",
        "\n",
        "    with open('{}.pkl'.format(filename), 'wb') as file: pickle.dump(expShapley_values, file)"
      ],
      "metadata": {
        "colab": {
          "base_uri": "https://localhost:8080/"
        },
        "id": "wM4g9hr9SN1Z",
        "outputId": "2105cde2-3844-46f5-8c5e-4c7fa9a5a60b"
      },
      "execution_count": 21,
      "outputs": [
        {
          "output_type": "stream",
          "name": "stdout",
          "text": [
            "{(np.int64(0), np.int64(0), np.int64(0)): array([5.99637, 5.99637, 5.99637]), (np.int64(1), np.int64(0), np.int64(0)): array([-0.17891,  0.32357,  0.32357]), (np.int64(1), np.int64(1), np.int64(1)): array([-0.00368,  0.49432,  0.49432]), (np.int64(1), np.int64(2), np.int64(2)): array([1.48143, 2.48302, 2.48302]), (np.int64(0), np.int64(2), np.int64(2)): array([-0.32275, -0.32555, -0.32555])}\n",
            "{(np.int64(0), np.int64(0), np.int64(0)): array([ 8.31763, 12.31557, 12.31557]), (np.int64(1), np.int64(0), np.int64(0)): array([2.25674, 6.22612, 6.22612]), (np.int64(1), np.int64(1), np.int64(1)): array([0.75942, 3.25279, 3.25279]), (np.int64(1), np.int64(2), np.int64(2)): array([0.74182, 2.75924, 2.75924]), (np.int64(0), np.int64(2), np.int64(2)): array([-0.78291,  0.23472,  0.23472])}\n"
          ]
        }
      ]
    },
    {
      "cell_type": "markdown",
      "source": [
        "Теперь сравним оригинальный глобальный вектор Шепли и модифицированный."
      ],
      "metadata": {
        "id": "yCfFE4NSNeHk"
      }
    },
    {
      "cell_type": "code",
      "source": [
        "filename = 'gridworld-d/global-origin.pkl'\n",
        "\n",
        "with open(filename, 'rb') as file:\n",
        "    local_data = pickle.load(file)\n",
        "\n",
        "vectors = list(local_data.values())\n",
        "\n",
        "vectors = np.array(vectors)\n",
        "print(vectors)\n",
        "\n",
        "mean_first_coord = np.mean(vectors[:, 0])\n",
        "mean_second_coord = np.mean(vectors[:, 1])\n",
        "mean_third_coord = np.mean(vectors[:, 2])\n",
        "\n",
        "# Выводим результат\n",
        "print(f\"Среднее по x: {mean_first_coord}\")\n",
        "print(f\"Среднее по y: {mean_second_coord}\")\n",
        "print(f\"Среднее по z: {mean_third_coord}\")"
      ],
      "metadata": {
        "colab": {
          "base_uri": "https://localhost:8080/"
        },
        "id": "FVqc8swZPJSG",
        "outputId": "b2507fa8-4c0f-4f0f-9dd2-e0609f552223"
      },
      "execution_count": 22,
      "outputs": [
        {
          "output_type": "stream",
          "name": "stdout",
          "text": [
            "[[5.76815667 5.52041667 5.52041667]\n",
            " [2.42756    3.155765   3.155765  ]\n",
            " [1.58724667 1.83335167 1.83335167]\n",
            " [1.58029333 1.58923833 1.58923833]\n",
            " [0.40440333 0.41418833 0.41418833]]\n",
            "Среднее по x: 2.3535320000000004\n",
            "Среднее по y: 2.5025920000000004\n",
            "Среднее по z: 2.5025920000000004\n"
          ]
        }
      ]
    },
    {
      "cell_type": "code",
      "source": [
        "filename = 'gridworld-d/global-modified-90.pkl'\n",
        "\n",
        "with open(filename, 'rb') as file:\n",
        "    local_data = pickle.load(file)\n",
        "\n",
        "vectors = list(local_data.values())\n",
        "\n",
        "vectors = np.array(vectors)\n",
        "print(vectors)\n",
        "\n",
        "mean_first_coord = np.mean(vectors[:, 0])\n",
        "mean_second_coord = np.mean(vectors[:, 1])\n",
        "mean_third_coord = np.mean(vectors[:, 2])\n",
        "\n",
        "# Выводим результат\n",
        "print(f\"Среднее по x: {mean_first_coord}\")\n",
        "print(f\"Среднее по y: {mean_second_coord}\")\n",
        "print(f\"Среднее по z: {mean_third_coord}\")"
      ],
      "metadata": {
        "colab": {
          "base_uri": "https://localhost:8080/"
        },
        "id": "IFKD6FZLPgIH",
        "outputId": "e0d7d900-3624-4aa7-ce43-8f829bb4bd42"
      },
      "execution_count": 23,
      "outputs": [
        {
          "output_type": "stream",
          "name": "stdout",
          "text": [
            "[[4.5316621 0.8873781 0.8873781]\n",
            " [2.5104077 0.6456727 0.6456727]\n",
            " [1.9887426 0.4370356 0.4370356]\n",
            " [1.9869529 0.3891179 0.3891179]\n",
            " [0.9802503 0.1837593 0.1837593]]\n",
            "Среднее по x: 2.39960312\n",
            "Среднее по y: 0.50859272\n",
            "Среднее по z: 0.50859272\n"
          ]
        }
      ]
    },
    {
      "cell_type": "markdown",
      "source": [
        "Как мы видим в моем подходе значения у второй и третьей координаты значительно меньше, чем в оригинальном подходе.\n",
        "\n",
        "Это здраво отображает логику - если вероятность поломки признаков маленькая, то наиболее полезной будет та, для которой нет замены.\n",
        "\n",
        "Отметим, что в оригинальном подходе вектор Шепли лишь поделил полезность от изначального $y$ между $y, z$, проигнориров эффект замещения двух координат."
      ],
      "metadata": {
        "id": "tBPB0CuFNjqJ"
      }
    },
    {
      "cell_type": "code",
      "source": [
        "import os\n",
        "from google.colab import files\n",
        "\n",
        "folders = ['original', 'modified', 'gridworld-d']\n",
        "\n",
        "for folder in folders:\n",
        "    if os.path.exists(folder):\n",
        "        for filename in os.listdir(folder):\n",
        "            filepath = os.path.join(folder, filename)\n",
        "            if os.path.isfile(filepath):\n",
        "                print(f\"Скачиваем {filepath}...\")\n",
        "                files.download(filepath)"
      ],
      "metadata": {
        "colab": {
          "base_uri": "https://localhost:8080/",
          "height": 295
        },
        "id": "f8geRk4wVg9h",
        "outputId": "4f8e76a4-55e4-4531-c22b-d274884c723d"
      },
      "execution_count": 24,
      "outputs": [
        {
          "output_type": "stream",
          "name": "stdout",
          "text": [
            "Скачиваем original/policy.pkl...\n"
          ]
        },
        {
          "output_type": "display_data",
          "data": {
            "text/plain": [
              "<IPython.core.display.Javascript object>"
            ],
            "application/javascript": [
              "\n",
              "    async function download(id, filename, size) {\n",
              "      if (!google.colab.kernel.accessAllowed) {\n",
              "        return;\n",
              "      }\n",
              "      const div = document.createElement('div');\n",
              "      const label = document.createElement('label');\n",
              "      label.textContent = `Downloading \"${filename}\": `;\n",
              "      div.appendChild(label);\n",
              "      const progress = document.createElement('progress');\n",
              "      progress.max = size;\n",
              "      div.appendChild(progress);\n",
              "      document.body.appendChild(div);\n",
              "\n",
              "      const buffers = [];\n",
              "      let downloaded = 0;\n",
              "\n",
              "      const channel = await google.colab.kernel.comms.open(id);\n",
              "      // Send a message to notify the kernel that we're ready.\n",
              "      channel.send({})\n",
              "\n",
              "      for await (const message of channel.messages) {\n",
              "        // Send a message to notify the kernel that we're ready.\n",
              "        channel.send({})\n",
              "        if (message.buffers) {\n",
              "          for (const buffer of message.buffers) {\n",
              "            buffers.push(buffer);\n",
              "            downloaded += buffer.byteLength;\n",
              "            progress.value = downloaded;\n",
              "          }\n",
              "        }\n",
              "      }\n",
              "      const blob = new Blob(buffers, {type: 'application/binary'});\n",
              "      const a = document.createElement('a');\n",
              "      a.href = window.URL.createObjectURL(blob);\n",
              "      a.download = filename;\n",
              "      div.appendChild(a);\n",
              "      a.click();\n",
              "      div.remove();\n",
              "    }\n",
              "  "
            ]
          },
          "metadata": {}
        },
        {
          "output_type": "display_data",
          "data": {
            "text/plain": [
              "<IPython.core.display.Javascript object>"
            ],
            "application/javascript": [
              "download(\"download_710cd871-2ac4-41cb-9698-35155de8241b\", \"policy.pkl\", 1007)"
            ]
          },
          "metadata": {}
        },
        {
          "output_type": "stream",
          "name": "stdout",
          "text": [
            "Скачиваем original/global.pkl...\n"
          ]
        },
        {
          "output_type": "display_data",
          "data": {
            "text/plain": [
              "<IPython.core.display.Javascript object>"
            ],
            "application/javascript": [
              "\n",
              "    async function download(id, filename, size) {\n",
              "      if (!google.colab.kernel.accessAllowed) {\n",
              "        return;\n",
              "      }\n",
              "      const div = document.createElement('div');\n",
              "      const label = document.createElement('label');\n",
              "      label.textContent = `Downloading \"${filename}\": `;\n",
              "      div.appendChild(label);\n",
              "      const progress = document.createElement('progress');\n",
              "      progress.max = size;\n",
              "      div.appendChild(progress);\n",
              "      document.body.appendChild(div);\n",
              "\n",
              "      const buffers = [];\n",
              "      let downloaded = 0;\n",
              "\n",
              "      const channel = await google.colab.kernel.comms.open(id);\n",
              "      // Send a message to notify the kernel that we're ready.\n",
              "      channel.send({})\n",
              "\n",
              "      for await (const message of channel.messages) {\n",
              "        // Send a message to notify the kernel that we're ready.\n",
              "        channel.send({})\n",
              "        if (message.buffers) {\n",
              "          for (const buffer of message.buffers) {\n",
              "            buffers.push(buffer);\n",
              "            downloaded += buffer.byteLength;\n",
              "            progress.value = downloaded;\n",
              "          }\n",
              "        }\n",
              "      }\n",
              "      const blob = new Blob(buffers, {type: 'application/binary'});\n",
              "      const a = document.createElement('a');\n",
              "      a.href = window.URL.createObjectURL(blob);\n",
              "      a.download = filename;\n",
              "      div.appendChild(a);\n",
              "      a.click();\n",
              "      div.remove();\n",
              "    }\n",
              "  "
            ]
          },
          "metadata": {}
        },
        {
          "output_type": "display_data",
          "data": {
            "text/plain": [
              "<IPython.core.display.Javascript object>"
            ],
            "application/javascript": [
              "download(\"download_40438fab-1c83-4655-83f4-ca339a3b2a07\", \"global.pkl\", 546)"
            ]
          },
          "metadata": {}
        },
        {
          "output_type": "stream",
          "name": "stdout",
          "text": [
            "Скачиваем original/value_function.pkl...\n"
          ]
        },
        {
          "output_type": "display_data",
          "data": {
            "text/plain": [
              "<IPython.core.display.Javascript object>"
            ],
            "application/javascript": [
              "\n",
              "    async function download(id, filename, size) {\n",
              "      if (!google.colab.kernel.accessAllowed) {\n",
              "        return;\n",
              "      }\n",
              "      const div = document.createElement('div');\n",
              "      const label = document.createElement('label');\n",
              "      label.textContent = `Downloading \"${filename}\": `;\n",
              "      div.appendChild(label);\n",
              "      const progress = document.createElement('progress');\n",
              "      progress.max = size;\n",
              "      div.appendChild(progress);\n",
              "      document.body.appendChild(div);\n",
              "\n",
              "      const buffers = [];\n",
              "      let downloaded = 0;\n",
              "\n",
              "      const channel = await google.colab.kernel.comms.open(id);\n",
              "      // Send a message to notify the kernel that we're ready.\n",
              "      channel.send({})\n",
              "\n",
              "      for await (const message of channel.messages) {\n",
              "        // Send a message to notify the kernel that we're ready.\n",
              "        channel.send({})\n",
              "        if (message.buffers) {\n",
              "          for (const buffer of message.buffers) {\n",
              "            buffers.push(buffer);\n",
              "            downloaded += buffer.byteLength;\n",
              "            progress.value = downloaded;\n",
              "          }\n",
              "        }\n",
              "      }\n",
              "      const blob = new Blob(buffers, {type: 'application/binary'});\n",
              "      const a = document.createElement('a');\n",
              "      a.href = window.URL.createObjectURL(blob);\n",
              "      a.download = filename;\n",
              "      div.appendChild(a);\n",
              "      a.click();\n",
              "      div.remove();\n",
              "    }\n",
              "  "
            ]
          },
          "metadata": {}
        },
        {
          "output_type": "display_data",
          "data": {
            "text/plain": [
              "<IPython.core.display.Javascript object>"
            ],
            "application/javascript": [
              "download(\"download_01f9beb6-5bf1-4955-bd30-6c097013f718\", \"value_function.pkl\", 546)"
            ]
          },
          "metadata": {}
        },
        {
          "output_type": "stream",
          "name": "stdout",
          "text": [
            "Скачиваем original/local.pkl...\n"
          ]
        },
        {
          "output_type": "display_data",
          "data": {
            "text/plain": [
              "<IPython.core.display.Javascript object>"
            ],
            "application/javascript": [
              "\n",
              "    async function download(id, filename, size) {\n",
              "      if (!google.colab.kernel.accessAllowed) {\n",
              "        return;\n",
              "      }\n",
              "      const div = document.createElement('div');\n",
              "      const label = document.createElement('label');\n",
              "      label.textContent = `Downloading \"${filename}\": `;\n",
              "      div.appendChild(label);\n",
              "      const progress = document.createElement('progress');\n",
              "      progress.max = size;\n",
              "      div.appendChild(progress);\n",
              "      document.body.appendChild(div);\n",
              "\n",
              "      const buffers = [];\n",
              "      let downloaded = 0;\n",
              "\n",
              "      const channel = await google.colab.kernel.comms.open(id);\n",
              "      // Send a message to notify the kernel that we're ready.\n",
              "      channel.send({})\n",
              "\n",
              "      for await (const message of channel.messages) {\n",
              "        // Send a message to notify the kernel that we're ready.\n",
              "        channel.send({})\n",
              "        if (message.buffers) {\n",
              "          for (const buffer of message.buffers) {\n",
              "            buffers.push(buffer);\n",
              "            downloaded += buffer.byteLength;\n",
              "            progress.value = downloaded;\n",
              "          }\n",
              "        }\n",
              "      }\n",
              "      const blob = new Blob(buffers, {type: 'application/binary'});\n",
              "      const a = document.createElement('a');\n",
              "      a.href = window.URL.createObjectURL(blob);\n",
              "      a.download = filename;\n",
              "      div.appendChild(a);\n",
              "      a.click();\n",
              "      div.remove();\n",
              "    }\n",
              "  "
            ]
          },
          "metadata": {}
        },
        {
          "output_type": "display_data",
          "data": {
            "text/plain": [
              "<IPython.core.display.Javascript object>"
            ],
            "application/javascript": [
              "download(\"download_706b076f-8ee5-4178-9b02-d8bcbd10bd07\", \"local.pkl\", 546)"
            ]
          },
          "metadata": {}
        },
        {
          "output_type": "stream",
          "name": "stdout",
          "text": [
            "Скачиваем modified/local-90.pkl...\n"
          ]
        },
        {
          "output_type": "display_data",
          "data": {
            "text/plain": [
              "<IPython.core.display.Javascript object>"
            ],
            "application/javascript": [
              "\n",
              "    async function download(id, filename, size) {\n",
              "      if (!google.colab.kernel.accessAllowed) {\n",
              "        return;\n",
              "      }\n",
              "      const div = document.createElement('div');\n",
              "      const label = document.createElement('label');\n",
              "      label.textContent = `Downloading \"${filename}\": `;\n",
              "      div.appendChild(label);\n",
              "      const progress = document.createElement('progress');\n",
              "      progress.max = size;\n",
              "      div.appendChild(progress);\n",
              "      document.body.appendChild(div);\n",
              "\n",
              "      const buffers = [];\n",
              "      let downloaded = 0;\n",
              "\n",
              "      const channel = await google.colab.kernel.comms.open(id);\n",
              "      // Send a message to notify the kernel that we're ready.\n",
              "      channel.send({})\n",
              "\n",
              "      for await (const message of channel.messages) {\n",
              "        // Send a message to notify the kernel that we're ready.\n",
              "        channel.send({})\n",
              "        if (message.buffers) {\n",
              "          for (const buffer of message.buffers) {\n",
              "            buffers.push(buffer);\n",
              "            downloaded += buffer.byteLength;\n",
              "            progress.value = downloaded;\n",
              "          }\n",
              "        }\n",
              "      }\n",
              "      const blob = new Blob(buffers, {type: 'application/binary'});\n",
              "      const a = document.createElement('a');\n",
              "      a.href = window.URL.createObjectURL(blob);\n",
              "      a.download = filename;\n",
              "      div.appendChild(a);\n",
              "      a.click();\n",
              "      div.remove();\n",
              "    }\n",
              "  "
            ]
          },
          "metadata": {}
        },
        {
          "output_type": "display_data",
          "data": {
            "text/plain": [
              "<IPython.core.display.Javascript object>"
            ],
            "application/javascript": [
              "download(\"download_9715a062-1b1c-4300-88e6-38a96af36838\", \"local-90.pkl\", 597)"
            ]
          },
          "metadata": {}
        },
        {
          "output_type": "stream",
          "name": "stdout",
          "text": [
            "Скачиваем modified/global-90.pkl...\n"
          ]
        },
        {
          "output_type": "display_data",
          "data": {
            "text/plain": [
              "<IPython.core.display.Javascript object>"
            ],
            "application/javascript": [
              "\n",
              "    async function download(id, filename, size) {\n",
              "      if (!google.colab.kernel.accessAllowed) {\n",
              "        return;\n",
              "      }\n",
              "      const div = document.createElement('div');\n",
              "      const label = document.createElement('label');\n",
              "      label.textContent = `Downloading \"${filename}\": `;\n",
              "      div.appendChild(label);\n",
              "      const progress = document.createElement('progress');\n",
              "      progress.max = size;\n",
              "      div.appendChild(progress);\n",
              "      document.body.appendChild(div);\n",
              "\n",
              "      const buffers = [];\n",
              "      let downloaded = 0;\n",
              "\n",
              "      const channel = await google.colab.kernel.comms.open(id);\n",
              "      // Send a message to notify the kernel that we're ready.\n",
              "      channel.send({})\n",
              "\n",
              "      for await (const message of channel.messages) {\n",
              "        // Send a message to notify the kernel that we're ready.\n",
              "        channel.send({})\n",
              "        if (message.buffers) {\n",
              "          for (const buffer of message.buffers) {\n",
              "            buffers.push(buffer);\n",
              "            downloaded += buffer.byteLength;\n",
              "            progress.value = downloaded;\n",
              "          }\n",
              "        }\n",
              "      }\n",
              "      const blob = new Blob(buffers, {type: 'application/binary'});\n",
              "      const a = document.createElement('a');\n",
              "      a.href = window.URL.createObjectURL(blob);\n",
              "      a.download = filename;\n",
              "      div.appendChild(a);\n",
              "      a.click();\n",
              "      div.remove();\n",
              "    }\n",
              "  "
            ]
          },
          "metadata": {}
        },
        {
          "output_type": "display_data",
          "data": {
            "text/plain": [
              "<IPython.core.display.Javascript object>"
            ],
            "application/javascript": [
              "download(\"download_59d2c629-6f47-4ec8-95ef-470791a96df8\", \"global-90.pkl\", 597)"
            ]
          },
          "metadata": {}
        },
        {
          "output_type": "stream",
          "name": "stdout",
          "text": [
            "Скачиваем gridworld-d/local-modified-100.pkl...\n"
          ]
        },
        {
          "output_type": "display_data",
          "data": {
            "text/plain": [
              "<IPython.core.display.Javascript object>"
            ],
            "application/javascript": [
              "\n",
              "    async function download(id, filename, size) {\n",
              "      if (!google.colab.kernel.accessAllowed) {\n",
              "        return;\n",
              "      }\n",
              "      const div = document.createElement('div');\n",
              "      const label = document.createElement('label');\n",
              "      label.textContent = `Downloading \"${filename}\": `;\n",
              "      div.appendChild(label);\n",
              "      const progress = document.createElement('progress');\n",
              "      progress.max = size;\n",
              "      div.appendChild(progress);\n",
              "      document.body.appendChild(div);\n",
              "\n",
              "      const buffers = [];\n",
              "      let downloaded = 0;\n",
              "\n",
              "      const channel = await google.colab.kernel.comms.open(id);\n",
              "      // Send a message to notify the kernel that we're ready.\n",
              "      channel.send({})\n",
              "\n",
              "      for await (const message of channel.messages) {\n",
              "        // Send a message to notify the kernel that we're ready.\n",
              "        channel.send({})\n",
              "        if (message.buffers) {\n",
              "          for (const buffer of message.buffers) {\n",
              "            buffers.push(buffer);\n",
              "            downloaded += buffer.byteLength;\n",
              "            progress.value = downloaded;\n",
              "          }\n",
              "        }\n",
              "      }\n",
              "      const blob = new Blob(buffers, {type: 'application/binary'});\n",
              "      const a = document.createElement('a');\n",
              "      a.href = window.URL.createObjectURL(blob);\n",
              "      a.download = filename;\n",
              "      div.appendChild(a);\n",
              "      a.click();\n",
              "      div.remove();\n",
              "    }\n",
              "  "
            ]
          },
          "metadata": {}
        },
        {
          "output_type": "display_data",
          "data": {
            "text/plain": [
              "<IPython.core.display.Javascript object>"
            ],
            "application/javascript": [
              "download(\"download_03bf9401-4461-40e4-a52a-575c2e643763\", \"local-modified-100.pkl\", 732)"
            ]
          },
          "metadata": {}
        },
        {
          "output_type": "stream",
          "name": "stdout",
          "text": [
            "Скачиваем gridworld-d/local-modified-90.pkl...\n"
          ]
        },
        {
          "output_type": "display_data",
          "data": {
            "text/plain": [
              "<IPython.core.display.Javascript object>"
            ],
            "application/javascript": [
              "\n",
              "    async function download(id, filename, size) {\n",
              "      if (!google.colab.kernel.accessAllowed) {\n",
              "        return;\n",
              "      }\n",
              "      const div = document.createElement('div');\n",
              "      const label = document.createElement('label');\n",
              "      label.textContent = `Downloading \"${filename}\": `;\n",
              "      div.appendChild(label);\n",
              "      const progress = document.createElement('progress');\n",
              "      progress.max = size;\n",
              "      div.appendChild(progress);\n",
              "      document.body.appendChild(div);\n",
              "\n",
              "      const buffers = [];\n",
              "      let downloaded = 0;\n",
              "\n",
              "      const channel = await google.colab.kernel.comms.open(id);\n",
              "      // Send a message to notify the kernel that we're ready.\n",
              "      channel.send({})\n",
              "\n",
              "      for await (const message of channel.messages) {\n",
              "        // Send a message to notify the kernel that we're ready.\n",
              "        channel.send({})\n",
              "        if (message.buffers) {\n",
              "          for (const buffer of message.buffers) {\n",
              "            buffers.push(buffer);\n",
              "            downloaded += buffer.byteLength;\n",
              "            progress.value = downloaded;\n",
              "          }\n",
              "        }\n",
              "      }\n",
              "      const blob = new Blob(buffers, {type: 'application/binary'});\n",
              "      const a = document.createElement('a');\n",
              "      a.href = window.URL.createObjectURL(blob);\n",
              "      a.download = filename;\n",
              "      div.appendChild(a);\n",
              "      a.click();\n",
              "      div.remove();\n",
              "    }\n",
              "  "
            ]
          },
          "metadata": {}
        },
        {
          "output_type": "display_data",
          "data": {
            "text/plain": [
              "<IPython.core.display.Javascript object>"
            ],
            "application/javascript": [
              "download(\"download_27e88e8d-d42d-4444-b16e-047e64023410\", \"local-modified-90.pkl\", 732)"
            ]
          },
          "metadata": {}
        },
        {
          "output_type": "stream",
          "name": "stdout",
          "text": [
            "Скачиваем gridworld-d/global-modified-50.pkl...\n"
          ]
        },
        {
          "output_type": "display_data",
          "data": {
            "text/plain": [
              "<IPython.core.display.Javascript object>"
            ],
            "application/javascript": [
              "\n",
              "    async function download(id, filename, size) {\n",
              "      if (!google.colab.kernel.accessAllowed) {\n",
              "        return;\n",
              "      }\n",
              "      const div = document.createElement('div');\n",
              "      const label = document.createElement('label');\n",
              "      label.textContent = `Downloading \"${filename}\": `;\n",
              "      div.appendChild(label);\n",
              "      const progress = document.createElement('progress');\n",
              "      progress.max = size;\n",
              "      div.appendChild(progress);\n",
              "      document.body.appendChild(div);\n",
              "\n",
              "      const buffers = [];\n",
              "      let downloaded = 0;\n",
              "\n",
              "      const channel = await google.colab.kernel.comms.open(id);\n",
              "      // Send a message to notify the kernel that we're ready.\n",
              "      channel.send({})\n",
              "\n",
              "      for await (const message of channel.messages) {\n",
              "        // Send a message to notify the kernel that we're ready.\n",
              "        channel.send({})\n",
              "        if (message.buffers) {\n",
              "          for (const buffer of message.buffers) {\n",
              "            buffers.push(buffer);\n",
              "            downloaded += buffer.byteLength;\n",
              "            progress.value = downloaded;\n",
              "          }\n",
              "        }\n",
              "      }\n",
              "      const blob = new Blob(buffers, {type: 'application/binary'});\n",
              "      const a = document.createElement('a');\n",
              "      a.href = window.URL.createObjectURL(blob);\n",
              "      a.download = filename;\n",
              "      div.appendChild(a);\n",
              "      a.click();\n",
              "      div.remove();\n",
              "    }\n",
              "  "
            ]
          },
          "metadata": {}
        },
        {
          "output_type": "display_data",
          "data": {
            "text/plain": [
              "<IPython.core.display.Javascript object>"
            ],
            "application/javascript": [
              "download(\"download_c973033a-c68a-4ac2-8606-d766828afc6a\", \"global-modified-50.pkl\", 732)"
            ]
          },
          "metadata": {}
        },
        {
          "output_type": "stream",
          "name": "stdout",
          "text": [
            "Скачиваем gridworld-d/local-modified-0.pkl...\n"
          ]
        },
        {
          "output_type": "display_data",
          "data": {
            "text/plain": [
              "<IPython.core.display.Javascript object>"
            ],
            "application/javascript": [
              "\n",
              "    async function download(id, filename, size) {\n",
              "      if (!google.colab.kernel.accessAllowed) {\n",
              "        return;\n",
              "      }\n",
              "      const div = document.createElement('div');\n",
              "      const label = document.createElement('label');\n",
              "      label.textContent = `Downloading \"${filename}\": `;\n",
              "      div.appendChild(label);\n",
              "      const progress = document.createElement('progress');\n",
              "      progress.max = size;\n",
              "      div.appendChild(progress);\n",
              "      document.body.appendChild(div);\n",
              "\n",
              "      const buffers = [];\n",
              "      let downloaded = 0;\n",
              "\n",
              "      const channel = await google.colab.kernel.comms.open(id);\n",
              "      // Send a message to notify the kernel that we're ready.\n",
              "      channel.send({})\n",
              "\n",
              "      for await (const message of channel.messages) {\n",
              "        // Send a message to notify the kernel that we're ready.\n",
              "        channel.send({})\n",
              "        if (message.buffers) {\n",
              "          for (const buffer of message.buffers) {\n",
              "            buffers.push(buffer);\n",
              "            downloaded += buffer.byteLength;\n",
              "            progress.value = downloaded;\n",
              "          }\n",
              "        }\n",
              "      }\n",
              "      const blob = new Blob(buffers, {type: 'application/binary'});\n",
              "      const a = document.createElement('a');\n",
              "      a.href = window.URL.createObjectURL(blob);\n",
              "      a.download = filename;\n",
              "      div.appendChild(a);\n",
              "      a.click();\n",
              "      div.remove();\n",
              "    }\n",
              "  "
            ]
          },
          "metadata": {}
        },
        {
          "output_type": "display_data",
          "data": {
            "text/plain": [
              "<IPython.core.display.Javascript object>"
            ],
            "application/javascript": [
              "download(\"download_a2c425db-5767-4ea0-b2be-55ca782ba0c6\", \"local-modified-0.pkl\", 732)"
            ]
          },
          "metadata": {}
        },
        {
          "output_type": "stream",
          "name": "stdout",
          "text": [
            "Скачиваем gridworld-d/global-origin.pkl...\n"
          ]
        },
        {
          "output_type": "display_data",
          "data": {
            "text/plain": [
              "<IPython.core.display.Javascript object>"
            ],
            "application/javascript": [
              "\n",
              "    async function download(id, filename, size) {\n",
              "      if (!google.colab.kernel.accessAllowed) {\n",
              "        return;\n",
              "      }\n",
              "      const div = document.createElement('div');\n",
              "      const label = document.createElement('label');\n",
              "      label.textContent = `Downloading \"${filename}\": `;\n",
              "      div.appendChild(label);\n",
              "      const progress = document.createElement('progress');\n",
              "      progress.max = size;\n",
              "      div.appendChild(progress);\n",
              "      document.body.appendChild(div);\n",
              "\n",
              "      const buffers = [];\n",
              "      let downloaded = 0;\n",
              "\n",
              "      const channel = await google.colab.kernel.comms.open(id);\n",
              "      // Send a message to notify the kernel that we're ready.\n",
              "      channel.send({})\n",
              "\n",
              "      for await (const message of channel.messages) {\n",
              "        // Send a message to notify the kernel that we're ready.\n",
              "        channel.send({})\n",
              "        if (message.buffers) {\n",
              "          for (const buffer of message.buffers) {\n",
              "            buffers.push(buffer);\n",
              "            downloaded += buffer.byteLength;\n",
              "            progress.value = downloaded;\n",
              "          }\n",
              "        }\n",
              "      }\n",
              "      const blob = new Blob(buffers, {type: 'application/binary'});\n",
              "      const a = document.createElement('a');\n",
              "      a.href = window.URL.createObjectURL(blob);\n",
              "      a.download = filename;\n",
              "      div.appendChild(a);\n",
              "      a.click();\n",
              "      div.remove();\n",
              "    }\n",
              "  "
            ]
          },
          "metadata": {}
        },
        {
          "output_type": "display_data",
          "data": {
            "text/plain": [
              "<IPython.core.display.Javascript object>"
            ],
            "application/javascript": [
              "download(\"download_dd85812f-1579-4f2d-88e1-b6c760080d28\", \"global-origin.pkl\", 736)"
            ]
          },
          "metadata": {}
        },
        {
          "output_type": "stream",
          "name": "stdout",
          "text": [
            "Скачиваем gridworld-d/local-modified-50.pkl...\n"
          ]
        },
        {
          "output_type": "display_data",
          "data": {
            "text/plain": [
              "<IPython.core.display.Javascript object>"
            ],
            "application/javascript": [
              "\n",
              "    async function download(id, filename, size) {\n",
              "      if (!google.colab.kernel.accessAllowed) {\n",
              "        return;\n",
              "      }\n",
              "      const div = document.createElement('div');\n",
              "      const label = document.createElement('label');\n",
              "      label.textContent = `Downloading \"${filename}\": `;\n",
              "      div.appendChild(label);\n",
              "      const progress = document.createElement('progress');\n",
              "      progress.max = size;\n",
              "      div.appendChild(progress);\n",
              "      document.body.appendChild(div);\n",
              "\n",
              "      const buffers = [];\n",
              "      let downloaded = 0;\n",
              "\n",
              "      const channel = await google.colab.kernel.comms.open(id);\n",
              "      // Send a message to notify the kernel that we're ready.\n",
              "      channel.send({})\n",
              "\n",
              "      for await (const message of channel.messages) {\n",
              "        // Send a message to notify the kernel that we're ready.\n",
              "        channel.send({})\n",
              "        if (message.buffers) {\n",
              "          for (const buffer of message.buffers) {\n",
              "            buffers.push(buffer);\n",
              "            downloaded += buffer.byteLength;\n",
              "            progress.value = downloaded;\n",
              "          }\n",
              "        }\n",
              "      }\n",
              "      const blob = new Blob(buffers, {type: 'application/binary'});\n",
              "      const a = document.createElement('a');\n",
              "      a.href = window.URL.createObjectURL(blob);\n",
              "      a.download = filename;\n",
              "      div.appendChild(a);\n",
              "      a.click();\n",
              "      div.remove();\n",
              "    }\n",
              "  "
            ]
          },
          "metadata": {}
        },
        {
          "output_type": "display_data",
          "data": {
            "text/plain": [
              "<IPython.core.display.Javascript object>"
            ],
            "application/javascript": [
              "download(\"download_1dd8fb37-f68d-4cd4-bbba-595fc75d87e8\", \"local-modified-50.pkl\", 732)"
            ]
          },
          "metadata": {}
        },
        {
          "output_type": "stream",
          "name": "stdout",
          "text": [
            "Скачиваем gridworld-d/global-modified-100.pkl...\n"
          ]
        },
        {
          "output_type": "display_data",
          "data": {
            "text/plain": [
              "<IPython.core.display.Javascript object>"
            ],
            "application/javascript": [
              "\n",
              "    async function download(id, filename, size) {\n",
              "      if (!google.colab.kernel.accessAllowed) {\n",
              "        return;\n",
              "      }\n",
              "      const div = document.createElement('div');\n",
              "      const label = document.createElement('label');\n",
              "      label.textContent = `Downloading \"${filename}\": `;\n",
              "      div.appendChild(label);\n",
              "      const progress = document.createElement('progress');\n",
              "      progress.max = size;\n",
              "      div.appendChild(progress);\n",
              "      document.body.appendChild(div);\n",
              "\n",
              "      const buffers = [];\n",
              "      let downloaded = 0;\n",
              "\n",
              "      const channel = await google.colab.kernel.comms.open(id);\n",
              "      // Send a message to notify the kernel that we're ready.\n",
              "      channel.send({})\n",
              "\n",
              "      for await (const message of channel.messages) {\n",
              "        // Send a message to notify the kernel that we're ready.\n",
              "        channel.send({})\n",
              "        if (message.buffers) {\n",
              "          for (const buffer of message.buffers) {\n",
              "            buffers.push(buffer);\n",
              "            downloaded += buffer.byteLength;\n",
              "            progress.value = downloaded;\n",
              "          }\n",
              "        }\n",
              "      }\n",
              "      const blob = new Blob(buffers, {type: 'application/binary'});\n",
              "      const a = document.createElement('a');\n",
              "      a.href = window.URL.createObjectURL(blob);\n",
              "      a.download = filename;\n",
              "      div.appendChild(a);\n",
              "      a.click();\n",
              "      div.remove();\n",
              "    }\n",
              "  "
            ]
          },
          "metadata": {}
        },
        {
          "output_type": "display_data",
          "data": {
            "text/plain": [
              "<IPython.core.display.Javascript object>"
            ],
            "application/javascript": [
              "download(\"download_9682d1f8-4262-4199-82eb-9e3f63277b27\", \"global-modified-100.pkl\", 732)"
            ]
          },
          "metadata": {}
        },
        {
          "output_type": "stream",
          "name": "stdout",
          "text": [
            "Скачиваем gridworld-d/global-modified-90.pkl...\n"
          ]
        },
        {
          "output_type": "display_data",
          "data": {
            "text/plain": [
              "<IPython.core.display.Javascript object>"
            ],
            "application/javascript": [
              "\n",
              "    async function download(id, filename, size) {\n",
              "      if (!google.colab.kernel.accessAllowed) {\n",
              "        return;\n",
              "      }\n",
              "      const div = document.createElement('div');\n",
              "      const label = document.createElement('label');\n",
              "      label.textContent = `Downloading \"${filename}\": `;\n",
              "      div.appendChild(label);\n",
              "      const progress = document.createElement('progress');\n",
              "      progress.max = size;\n",
              "      div.appendChild(progress);\n",
              "      document.body.appendChild(div);\n",
              "\n",
              "      const buffers = [];\n",
              "      let downloaded = 0;\n",
              "\n",
              "      const channel = await google.colab.kernel.comms.open(id);\n",
              "      // Send a message to notify the kernel that we're ready.\n",
              "      channel.send({})\n",
              "\n",
              "      for await (const message of channel.messages) {\n",
              "        // Send a message to notify the kernel that we're ready.\n",
              "        channel.send({})\n",
              "        if (message.buffers) {\n",
              "          for (const buffer of message.buffers) {\n",
              "            buffers.push(buffer);\n",
              "            downloaded += buffer.byteLength;\n",
              "            progress.value = downloaded;\n",
              "          }\n",
              "        }\n",
              "      }\n",
              "      const blob = new Blob(buffers, {type: 'application/binary'});\n",
              "      const a = document.createElement('a');\n",
              "      a.href = window.URL.createObjectURL(blob);\n",
              "      a.download = filename;\n",
              "      div.appendChild(a);\n",
              "      a.click();\n",
              "      div.remove();\n",
              "    }\n",
              "  "
            ]
          },
          "metadata": {}
        },
        {
          "output_type": "display_data",
          "data": {
            "text/plain": [
              "<IPython.core.display.Javascript object>"
            ],
            "application/javascript": [
              "download(\"download_3bd3f2d7-e5ed-4a33-adf8-51caa991fa3d\", \"global-modified-90.pkl\", 732)"
            ]
          },
          "metadata": {}
        },
        {
          "output_type": "stream",
          "name": "stdout",
          "text": [
            "Скачиваем gridworld-d/local-origin.pkl...\n"
          ]
        },
        {
          "output_type": "display_data",
          "data": {
            "text/plain": [
              "<IPython.core.display.Javascript object>"
            ],
            "application/javascript": [
              "\n",
              "    async function download(id, filename, size) {\n",
              "      if (!google.colab.kernel.accessAllowed) {\n",
              "        return;\n",
              "      }\n",
              "      const div = document.createElement('div');\n",
              "      const label = document.createElement('label');\n",
              "      label.textContent = `Downloading \"${filename}\": `;\n",
              "      div.appendChild(label);\n",
              "      const progress = document.createElement('progress');\n",
              "      progress.max = size;\n",
              "      div.appendChild(progress);\n",
              "      document.body.appendChild(div);\n",
              "\n",
              "      const buffers = [];\n",
              "      let downloaded = 0;\n",
              "\n",
              "      const channel = await google.colab.kernel.comms.open(id);\n",
              "      // Send a message to notify the kernel that we're ready.\n",
              "      channel.send({})\n",
              "\n",
              "      for await (const message of channel.messages) {\n",
              "        // Send a message to notify the kernel that we're ready.\n",
              "        channel.send({})\n",
              "        if (message.buffers) {\n",
              "          for (const buffer of message.buffers) {\n",
              "            buffers.push(buffer);\n",
              "            downloaded += buffer.byteLength;\n",
              "            progress.value = downloaded;\n",
              "          }\n",
              "        }\n",
              "      }\n",
              "      const blob = new Blob(buffers, {type: 'application/binary'});\n",
              "      const a = document.createElement('a');\n",
              "      a.href = window.URL.createObjectURL(blob);\n",
              "      a.download = filename;\n",
              "      div.appendChild(a);\n",
              "      a.click();\n",
              "      div.remove();\n",
              "    }\n",
              "  "
            ]
          },
          "metadata": {}
        },
        {
          "output_type": "display_data",
          "data": {
            "text/plain": [
              "<IPython.core.display.Javascript object>"
            ],
            "application/javascript": [
              "download(\"download_1fdbfa96-f559-4ee0-b0d3-c9be74d3d852\", \"local-origin.pkl\", 736)"
            ]
          },
          "metadata": {}
        },
        {
          "output_type": "stream",
          "name": "stdout",
          "text": [
            "Скачиваем gridworld-d/global-modified-0.pkl...\n"
          ]
        },
        {
          "output_type": "display_data",
          "data": {
            "text/plain": [
              "<IPython.core.display.Javascript object>"
            ],
            "application/javascript": [
              "\n",
              "    async function download(id, filename, size) {\n",
              "      if (!google.colab.kernel.accessAllowed) {\n",
              "        return;\n",
              "      }\n",
              "      const div = document.createElement('div');\n",
              "      const label = document.createElement('label');\n",
              "      label.textContent = `Downloading \"${filename}\": `;\n",
              "      div.appendChild(label);\n",
              "      const progress = document.createElement('progress');\n",
              "      progress.max = size;\n",
              "      div.appendChild(progress);\n",
              "      document.body.appendChild(div);\n",
              "\n",
              "      const buffers = [];\n",
              "      let downloaded = 0;\n",
              "\n",
              "      const channel = await google.colab.kernel.comms.open(id);\n",
              "      // Send a message to notify the kernel that we're ready.\n",
              "      channel.send({})\n",
              "\n",
              "      for await (const message of channel.messages) {\n",
              "        // Send a message to notify the kernel that we're ready.\n",
              "        channel.send({})\n",
              "        if (message.buffers) {\n",
              "          for (const buffer of message.buffers) {\n",
              "            buffers.push(buffer);\n",
              "            downloaded += buffer.byteLength;\n",
              "            progress.value = downloaded;\n",
              "          }\n",
              "        }\n",
              "      }\n",
              "      const blob = new Blob(buffers, {type: 'application/binary'});\n",
              "      const a = document.createElement('a');\n",
              "      a.href = window.URL.createObjectURL(blob);\n",
              "      a.download = filename;\n",
              "      div.appendChild(a);\n",
              "      a.click();\n",
              "      div.remove();\n",
              "    }\n",
              "  "
            ]
          },
          "metadata": {}
        },
        {
          "output_type": "display_data",
          "data": {
            "text/plain": [
              "<IPython.core.display.Javascript object>"
            ],
            "application/javascript": [
              "download(\"download_d740b480-6295-4a25-bd53-fa9cbc92a557\", \"global-modified-0.pkl\", 732)"
            ]
          },
          "metadata": {}
        }
      ]
    }
  ]
}
